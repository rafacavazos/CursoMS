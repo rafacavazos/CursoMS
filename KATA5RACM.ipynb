{
 "cells": [
  {
   "cell_type": "code",
   "execution_count": 1,
   "metadata": {},
   "outputs": [
    {
     "name": "stdout",
     "output_type": "stream",
     "text": [
      "Distancia de la Tierra = 149597870 km\n",
      "Distancia de Jupiter = 778547200 km\n",
      "La diferencia entre la distancia de la Tierra y de Jupiter es 390577533.93 millas\n"
     ]
    }
   ],
   "source": [
    "disTierra = 149597870\n",
    "disJupiter = 778547200\n",
    "difTierravsJupiter = disJupiter - disTierra\n",
    "letrero = f'Distancia de la Tierra = {disTierra} km'\n",
    "letrero2 = f'Distancia de Jupiter = {disJupiter} km'\n",
    "print(f\"\"\"{letrero}\n",
    "{letrero2}\n",
    "La diferencia entre la distancia de la Tierra y de Jupiter es {difTierravsJupiter * 0.621} millas\"\"\")"
   ]
  },
  {
   "cell_type": "code",
   "execution_count": 2,
   "metadata": {},
   "outputs": [
    {
     "name": "stdout",
     "output_type": "stream",
     "text": [
      "18600\n",
      "11550.6\n"
     ]
    }
   ],
   "source": [
    "firstPlanet = input('Ingresa la distancia del sol para el primer planeta en km')\n",
    "secondPlanet = input('Ingresa la distancia desde el sol para el segundo planeta en KM')\n",
    "# Convierte las cadenas de ambos planetas a números enteros\n",
    "firstPlanet = int(firstPlanet)\n",
    "secondPlanet = int(secondPlanet)\n",
    "# Realizar el cálculo y determinar el valor absoluto\n",
    "distance_km = secondPlanet - firstPlanet\n",
    "print(distance_km)\n",
    "\n",
    "# Convertir de KM a Millas\n",
    "distance_mi = distance_km * 0.621\n",
    "print(abs(distance_mi))"
   ]
  }
 ],
 "metadata": {
  "interpreter": {
   "hash": "be94bfc1a769a43cfc387d3d6a1a655b1581d4cc697e31c2754787c3925cf10f"
  },
  "kernelspec": {
   "display_name": "Python 3.10.2 64-bit",
   "language": "python",
   "name": "python3"
  },
  "language_info": {
   "codemirror_mode": {
    "name": "ipython",
    "version": 3
   },
   "file_extension": ".py",
   "mimetype": "text/x-python",
   "name": "python",
   "nbconvert_exporter": "python",
   "pygments_lexer": "ipython3",
   "version": "3.10.2"
  },
  "orig_nbformat": 4
 },
 "nbformat": 4,
 "nbformat_minor": 2
}
