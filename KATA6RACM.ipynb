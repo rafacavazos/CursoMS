{
 "cells": [
  {
   "cell_type": "code",
   "execution_count": 1,
   "metadata": {},
   "outputs": [
    {
     "name": "stdout",
     "output_type": "stream",
     "text": [
      "Existen #8 planetas\n",
      "Pluton es el último planeta\n"
     ]
    }
   ],
   "source": [
    "planetas = ['Mercurio', 'Venus', 'Tierra', 'Marte', 'Jupiter', 'Saturno', 'Urano', 'Neptuno']\n",
    "\n",
    "print(f'Existen #{len(planetas)}', 'planetas')\n",
    "\n",
    "#  Agregamos a plutón y mostramos el último elemento\n",
    "planetas.append('Pluton')\n",
    "\n",
    "print(planetas[-1], 'es el último planeta')"
   ]
  },
  {
   "cell_type": "code",
   "execution_count": 2,
   "metadata": {},
   "outputs": [
    {
     "name": "stdout",
     "output_type": "stream",
     "text": [
      "['Mercurio', 'Venus', 'Tierra', 'Marte', 'Jupiter', 'Saturno', 'Urano', 'Neptuno', 'Pluton']\n",
      "los planetas más cerca del sol que Venus son:\n",
      "['Mercurio']\n",
      "Aqui te muestro los planetas más alejados del sol de la opción seleccionada. Venus\n",
      "['Tierra', 'Marte', 'Jupiter', 'Saturno', 'Urano', 'Neptuno', 'Pluton']\n"
     ]
    }
   ],
   "source": [
    "print(planetas)\n",
    "# Solicitamos el nombre de un planeta *Pista:  input()*\n",
    "user_planet = input('Selecciona de la lista el planeta más cercano al sol.')\n",
    "# Busca el planeta en la lista\n",
    "planet_index = planetas.index(user_planet)\n",
    "if (0 != planet_index):\n",
    "    print(f'los planetas más cerca del sol que {user_planet} son:')\n",
    "    print(planetas[0:planet_index])\n",
    "else:\n",
    "    print(f'Seleccionaste el planeta más cercano al sol {user_planet}')\n",
    "\n",
    "print('Aqui te muestro los planetas más alejados del sol de la opción seleccionada. ' + user_planet)\n",
    "print(planetas[planet_index + 1:])"
   ]
  }
 ],
 "metadata": {
  "interpreter": {
   "hash": "be94bfc1a769a43cfc387d3d6a1a655b1581d4cc697e31c2754787c3925cf10f"
  },
  "kernelspec": {
   "display_name": "Python 3.10.2 64-bit",
   "language": "python",
   "name": "python3"
  },
  "language_info": {
   "codemirror_mode": {
    "name": "ipython",
    "version": 3
   },
   "file_extension": ".py",
   "mimetype": "text/x-python",
   "name": "python",
   "nbconvert_exporter": "python",
   "pygments_lexer": "ipython3",
   "version": "3.10.2"
  },
  "orig_nbformat": 4
 },
 "nbformat": 4,
 "nbformat_minor": 2
}
