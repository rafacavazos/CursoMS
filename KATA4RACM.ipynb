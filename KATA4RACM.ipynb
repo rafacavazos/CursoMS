{
 "cells": [
  {
   "cell_type": "code",
   "execution_count": 1,
   "metadata": {},
   "outputs": [
    {
     "name": "stdout",
     "output_type": "stream",
     "text": [
      "['Interesting facts about the Moon', \" The Moon is Earth's only satellite\", ' There are several interesting facts about the Moon and how it affects life here on Earth', ' On average, the Moon moves 4cm away from the Earth every year', ' This yearly drift is not significant enough to cause immediate effects on Earth', ' The highest daylight temperature of the Moon is 127 C', '']\n",
      " On average, the Moon moves 4cm away from the Earth every year\n",
      " The highest daylight temperature of the Moon is 127 C\n",
      " On average, the Moon moves 4cm away from the Earth every year\n",
      " The highest daylight temperature of the Moon is 127 Celsius\n"
     ]
    }
   ],
   "source": [
    "text = \"\"\"Interesting facts about the Moon. The Moon is Earth's only satellite. There are several interesting facts about the Moon and how it affects life here on Earth. On average, the Moon moves 4cm away from the Earth every year. This yearly drift is not significant enough to cause immediate effects on Earth. The highest daylight temperature of the Moon is 127 C.\"\"\"\n",
    "print(text.split('.'))\n",
    "TextInPart= text.split('.')\n",
    "#print(text.split(\".\"))\n",
    "# Define las palabras pista: average, temperature y distance suenan bien\n",
    "keyWords=['average','temperature','distance']\n",
    "for sentence in TextInPart:\n",
    "    for word in keyWords:\n",
    "        if word in sentence:\n",
    "            print(sentence)\n",
    "\n",
    "# Ciclo para cambiar C a Celsius\n",
    "for sentence in TextInPart:\n",
    "    for key_word in keyWords:\n",
    "        if key_word in sentence:\n",
    "            print(sentence.replace(' C', ' Celsius'))\n",
    "            break\n"
   ]
  },
  {
   "cell_type": "code",
   "execution_count": 2,
   "metadata": {},
   "outputs": [
    {
     "name": "stdout",
     "output_type": "stream",
     "text": [
      "--------------------------------------------------------------------------------\n",
      "Nombre del Planeta: Tierra\n",
      "Gravedad en Luna: 1.6199999999999999 m/s2 \n",
      "\n",
      "--------------------------------------------------------------------------------\n",
      "Nombre del Planeta: Tierra\n",
      "Gravedad en Luna: 1.6199999999999999 m/s2 \n",
      "\n",
      "\n",
      "Datos de Gravedad sobre: Ganímedes\n",
      "-----------------------------------\n",
      "Nombre del planeta: Marte \n",
      "Gravedad en Ganímedes 1.4300000000000002 m/s2\n"
     ]
    }
   ],
   "source": [
    "\n",
    "#datos con los que vamos a trabajar\n",
    "planeta = \"Tierra\"\n",
    "gravedad = 0.00162 #m/s2\n",
    "nombre = \"Luna\"\n",
    "#Titulo\n",
    "titulo = f'datos de la gravedad sobre {nombre}'\n",
    "#Creamos la plantilla\n",
    "hechos = f\"\"\"{'-'*80}\n",
    "Nombre del Planeta: {planeta}\n",
    "Gravedad en {nombre}: {gravedad*1000} m/s2 \n",
    "\"\"\"\n",
    "#Unir ambas cadenas\n",
    "plantilla = f\"\"\"{titulo.title()}{hechos}\"\"\"\n",
    "print(hechos)\n",
    "#nuevos datos\n",
    "planeta='Marte '\n",
    "gravedad = 0.00143\n",
    "nombre= 'Ganímedes'\n",
    "print(hechos)\n",
    "\n",
    "nueva_Plantilla = \"\"\"\n",
    "Datos de Gravedad sobre: {nombre}\n",
    "-----------------------------------\n",
    "Nombre del planeta: {planeta}\n",
    "Gravedad en {nombre} {gravedad} m/s2\"\"\"\n",
    "\n",
    "print(nueva_Plantilla.format(nombre=nombre,planeta=planeta,gravedad=gravedad*1000))\n"
   ]
  }
 ],
 "metadata": {
  "interpreter": {
   "hash": "be94bfc1a769a43cfc387d3d6a1a655b1581d4cc697e31c2754787c3925cf10f"
  },
  "kernelspec": {
   "display_name": "Python 3.10.2 64-bit",
   "language": "python",
   "name": "python3"
  },
  "language_info": {
   "codemirror_mode": {
    "name": "ipython",
    "version": 3
   },
   "file_extension": ".py",
   "mimetype": "text/x-python",
   "name": "python",
   "nbconvert_exporter": "python",
   "pygments_lexer": "ipython3",
   "version": "3.10.2"
  },
  "orig_nbformat": 4
 },
 "nbformat": 4,
 "nbformat_minor": 2
}
