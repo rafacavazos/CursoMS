{
 "cells": [
  {
   "cell_type": "code",
   "execution_count": 1,
   "metadata": {},
   "outputs": [
    {
     "name": "stdout",
     "output_type": "stream",
     "text": [
      "!!!Alerta... la velocidad del asteroide es de:  49 km/s\n"
     ]
    }
   ],
   "source": [
    "velAsteroide = 49\n",
    "if (velAsteroide>= 25):\n",
    "    print(\"!!!Alerta... la velocidad del asteroide es de: \", velAsteroide, \"km/s\")\n",
    "else:\n",
    "    print(\"Velocidad Normal: \", velAsteroide, \"km/s\")"
   ]
  },
  {
   "cell_type": "code",
   "execution_count": 2,
   "metadata": {},
   "outputs": [
    {
     "name": "stdout",
     "output_type": "stream",
     "text": [
      "No hay luz en el cielo\n"
     ]
    }
   ],
   "source": [
    "velAsteroide=19\n",
    "entraEnAtmosfera=True\n",
    "if entraEnAtmosfera == False:\n",
    "    print(\"No hay luz en el cielo\")\n",
    "elif(velAsteroide >= 20):\n",
    "    print(\"!Hay un rayo de luz en el cielo\")\n",
    "else:\n",
    "    print(\"No hay luz en el cielo\")\n"
   ]
  },
  {
   "cell_type": "code",
   "execution_count": 3,
   "metadata": {},
   "outputs": [
    {
     "name": "stdout",
     "output_type": "stream",
     "text": [
      "Velocidad Normal:  15 km/s y tamaño normal 10\n",
      "!Hay un rayo de luz en el cielo\n",
      "!!!Alerta, Peligro Asteroide grande  900\n",
      "!Hay un rayo de luz en el cielo\n",
      "!!!Alerta, Peligro Asteroide grande  55 y con alta velocidad  52\n",
      "!!!Alerta, Peligro Asteroide grande  30\n",
      "!!!Alerta, Peligro Asteroide grande  835 y con alta velocidad  30\n",
      "!!!Alerta, Peligro Asteroide grande  524 y con alta velocidad  35\n"
     ]
    }
   ],
   "source": [
    "VelAst = [15,20,14,49,52,24,30,35]\n",
    "SizeAst = [10,25,900,20,55,30,835,524]\n",
    "for i in range(0,len(VelAst)):\n",
    "    if VelAst[i] > 25 and SizeAst[i] > 25 and SizeAst[i] <=1000:\n",
    "        print(\"!!!Alerta, Peligro Asteroide grande \", SizeAst[i],\n",
    "         \"y con alta velocidad \", VelAst[i])\n",
    "    elif VelAst[i] >= 20 and SizeAst[i]<=25:\n",
    "        print(\"!Hay un rayo de luz en el cielo\")\n",
    "    elif SizeAst[i]>25:\n",
    "        print(\"!!!Alerta, Peligro Asteroide grande \", SizeAst[i])\n",
    "    else:\n",
    "        print(\"Velocidad Normal: \", VelAst[i], \"km/s y tamaño normal\", SizeAst[i])"
   ]
  }
 ],
 "metadata": {
  "interpreter": {
   "hash": "be94bfc1a769a43cfc387d3d6a1a655b1581d4cc697e31c2754787c3925cf10f"
  },
  "kernelspec": {
   "display_name": "Python 3.10.2 64-bit",
   "language": "python",
   "name": "python3"
  },
  "language_info": {
   "codemirror_mode": {
    "name": "ipython",
    "version": 3
   },
   "file_extension": ".py",
   "mimetype": "text/x-python",
   "name": "python",
   "nbconvert_exporter": "python",
   "pygments_lexer": "ipython3",
   "version": "3.10.2"
  },
  "orig_nbformat": 4
 },
 "nbformat": 4,
 "nbformat_minor": 2
}
